{
 "cells": [
  {
   "cell_type": "code",
   "execution_count": 1,
   "id": "8c30e698",
   "metadata": {},
   "outputs": [],
   "source": [
    "import pandas as pd\n",
    "\n",
    "basics = pd.read_csv('title.basics.tsv', sep='\\t', low_memory=False, na_values=[\"\\\\N\",\"nan\"])\n",
    "basics = basics[basics[\"titleType\"] == \"movie\"]\n",
    "basics"
   ]
  },
  {
   "cell_type": "code",
   "execution_count": 2,
   "id": "72982c72",
   "metadata": {},
   "outputs": [],
   "source": [
    "ratings = pd.read_csv('title.ratings.tsv', sep='\\t', low_memory=False, na_values=[\"\\\\N\",\"nan\"])\n",
    "ratings"
   ]
  },
  {
   "cell_type": "code",
   "execution_count": 3,
   "id": "25d7739d",
   "metadata": {},
   "outputs": [],
   "source": [
    "cast = pd.read_csv('title.principals.tsv', sep='\\t', low_memory=False, na_values=[\"\\\\N\",\"nan\"])\n",
    "names = pd.read_csv('name.basics.tsv', sep='\\t', low_memory=False, na_values=[\"\\\\N\",\"nan\"])"
   ]
  },
  {
   "cell_type": "code",
   "execution_count": 4,
   "id": "9b58b996",
   "metadata": {},
   "outputs": [],
   "source": [
    "df = pd.merge(basics, ratings, on='tconst')\n",
    "df = df.sort_values(by='numVotes', ascending=False)\n",
    "\n",
    "top = df.loc[df['primaryTitle'] == df['originalTitle']].head(2000).merge(\n",
    "    cast.loc[cast['category'].isin(['actor','actress'])], on='tconst'\n",
    ").merge(names, on='nconst').groupby(['tconst']).agg({\n",
    "    'primaryName': '|'.join\n",
    "}).merge(basics, on='tconst')\n",
    "\n",
    "top"
   ]
  },
  {
   "cell_type": "code",
   "execution_count": 5,
   "id": "df7824e8",
   "metadata": {},
   "outputs": [],
   "source": [
    "from rdflib import Graph\n",
    "import pandas as pd\n",
    "from SPARQLWrapper import SPARQLWrapper, JSON\n",
    "\n",
    "sparql = SPARQLWrapper(\"http://localhost:7200/repositories/wikidata\")\n",
    "\n",
    "def gen():\n",
    "    QUERY = '''\n",
    "    PREFIX wd: <http://www.wikidata.org/entity/>\n",
    "    PREFIX wdt: <http://www.wikidata.org/prop/direct/>\n",
    "    PREFIX rdfs: <http://www.w3.org/2000/01/rdf-schema#>\n",
    "\n",
    "    SELECT DISTINCT\n",
    "    ?title ?tconst\n",
    "    (GROUP_CONCAT(DISTINCT ?director; SEPARATOR=\"|\") as ?directors)\n",
    "    (GROUP_CONCAT(DISTINCT ?composer; SEPARATOR=\"|\") as ?composers)\n",
    "    (GROUP_CONCAT(DISTINCT ?genre; SEPARATOR=\"|\") as ?genres)\n",
    "    (GROUP_CONCAT(DISTINCT ?subject; SEPARATOR=\"|\") as ?subjects)\n",
    "    (GROUP_CONCAT(DISTINCT ?period; SEPARATOR=\"|\") as ?periods)\n",
    "    (GROUP_CONCAT(DISTINCT ?location; SEPARATOR=\"|\") as ?locations)\n",
    "\n",
    "    WHERE {\n",
    "        ?film rdfs:label ?title .\n",
    "        ?film wdt:P345 ?tconst .\n",
    "        OPTIONAL { ?film wdt:P57 ?d . ?d rdfs:label ?director . }\n",
    "        OPTIONAL { ?film wdt:P86 ?c . ?c rdfs:label ?composer . }\n",
    "        OPTIONAL { ?film wdt:P136 ?g . ?g rdfs:label ?genre . }\n",
    "        OPTIONAL { ?film wdt:P921 ?s . ?s rdfs:label ?subject . }\n",
    "        OPTIONAL { ?film wdt:P180 ?s2 . ?s2 rdfs:label ?subject . }\n",
    "        OPTIONAL { ?film wdt:P2401 ?p . ?p rdfs:label ?period . }\n",
    "        OPTIONAL { ?film wdt:P840 ?l . ?l rdfs:label ?location . }\n",
    "    }\n",
    "    GROUP BY ?title ?tconst\n",
    "    '''\n",
    "\n",
    "    sparql.setQuery(QUERY)\n",
    "    sparql.setReturnFormat(JSON)\n",
    "    ret = sparql.queryAndConvert()\n",
    "\n",
    "    for row in ret['results']['bindings']:\n",
    "        yield {k: v['value'] for k, v in row.items()}\n",
    "\n",
    "\n",
    "df2 = pd.DataFrame.from_records(gen())\n",
    "df2"
   ]
  },
  {
   "cell_type": "code",
   "execution_count": 6,
   "id": "aacfed0e",
   "metadata": {},
   "outputs": [],
   "source": [
    "df3 = top.merge(df2, on='tconst')\n",
    "df3"
   ]
  },
  {
   "cell_type": "code",
   "execution_count": 7,
   "id": "e84e656b",
   "metadata": {},
   "outputs": [],
   "source": [
    "import json \n",
    "\n",
    "film_data = {}\n",
    "\n",
    "for row in df3.itertuples():\n",
    "    title = row.title\n",
    "    year = int(row.startYear)\n",
    "    display = f'{title} ({year})'\n",
    "    film = {\n",
    "        'title': title,\n",
    "        'imdb': row.tconst,\n",
    "        'decade': str(int(year / 10) * 10) + 's',\n",
    "        'actors': sorted(set(\n",
    "            row.primaryName.split('|')\n",
    "        )),\n",
    "    }\n",
    "\n",
    "    film['directors'] = sorted(set(row.directors.split('|')), key=str.casefold) or None\n",
    "    film['composers'] = sorted(filter(bool, set(row.composers.split('|'))), key=str.casefold) or None\n",
    "    film['settings'] = sorted(filter(bool, set(row.periods.split('|')) | set(row.locations.split('|'))),\n",
    "        key=str.casefold\n",
    "    ) or None\n",
    "    film['genres'] = sorted(\n",
    "        set(g.replace(' film', '').lower() for g in row.genres_y.split('|'))\n",
    "        |\n",
    "        set(g.lower() for g in row.genres_x.split(',')),\n",
    "        key=str.casefold\n",
    "    ) or None\n",
    "    film['subjects'] = sorted(filter(bool, set(row.subjects.split('|'))), key=str.casefold) or None\n",
    "\n",
    "    if len(film) > 2:\n",
    "        film_data[display] = film\n",
    "\n",
    "with open('films.json', 'w') as f:\n",
    "    json.dump(film_data, f, indent=2)"
   ]
  }
 ],
 "metadata": {
  "kernelspec": {
   "display_name": "Python 3 (ipykernel)",
   "language": "python",
   "name": "python3"
  },
  "language_info": {
   "codemirror_mode": {
    "name": "ipython",
    "version": 3
   },
   "file_extension": ".py",
   "mimetype": "text/x-python",
   "name": "python",
   "nbconvert_exporter": "python",
   "pygments_lexer": "ipython3",
   "version": "3.10.9"
  }
 },
 "nbformat": 4,
 "nbformat_minor": 5
}
